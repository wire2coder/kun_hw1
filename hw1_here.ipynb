{
  "nbformat": 4,
  "nbformat_minor": 0,
  "metadata": {
    "colab": {
      "name": "hw1_here.ipynb",
      "provenance": [],
      "collapsed_sections": []
    },
    "kernelspec": {
      "name": "python3",
      "display_name": "Python 3"
    }
  },
  "cells": [
    {
      "cell_type": "code",
      "metadata": {
        "id": "k7Uk7hYPpfuC"
      },
      "source": [
        "# import stuff\r\n",
        "import matplotlib.pyplot as plt\r\n",
        "import numpy as np\r\n",
        "import pandas as pd\r\n",
        "import csv\r\n",
        "import math\r\n",
        "import os"
      ],
      "execution_count": 16,
      "outputs": []
    },
    {
      "cell_type": "code",
      "metadata": {
        "id": "Y0GNzUS9TpR6"
      },
      "source": [
        "def fun1(*aarg):\r\n",
        "  for asdf in aarg:\r\n",
        "    # print( len(asdf) )\r\n",
        "    print( asdf )\r\n",
        "\r\n",
        "def fun2(**quack):\r\n",
        "  for key, value in quack.items():\r\n",
        "    # print(key)\r\n",
        "    print(value)\r\n",
        "\r\n",
        "# fun1('sfd', '1', 'fff', 'ggg')\r\n",
        "# fun2(first='what', second='horn', third='jon')"
      ],
      "execution_count": 17,
      "outputs": []
    },
    {
      "cell_type": "code",
      "metadata": {
        "id": "7_3zvYgRWkiN"
      },
      "source": [
        "# load CSV file\r\n",
        "def load_csv(filename):\r\n",
        "  dataset = []\r\n",
        "\r\n",
        "  with open(filename, 'r') as file:\r\n",
        "    next(file) # skip the first line ( the 'header' )\r\n",
        "    csv_readder = csv.reader(file)\r\n",
        "    \r\n",
        "    for row in csv_readder:\r\n",
        "      if not row:\r\n",
        "        continue\r\n",
        "      \r\n",
        "      dataset.append(row)\r\n",
        "\r\n",
        "  return dataset"
      ],
      "execution_count": 18,
      "outputs": []
    },
    {
      "cell_type": "code",
      "metadata": {
        "id": "TvJwaGdswJ6a"
      },
      "source": [
        "# clear values in 'dictionary'\r\n",
        "def clear_values_in_dic(dic1):\r\n",
        "  dic1 = dic1.fromkeys(dic1, 0)\r\n",
        "  # print('dic1.items() >>> ' , dic1.items() )\r\n",
        "\r\n",
        "  return dic1  \r\n",
        "\r\n",
        "\r\n",
        "# make a 'dictionary' from sentences\r\n",
        "def convert_to_dic(dataset):\r\n",
        "  dic1 = {}; # empty dictionary\r\n",
        "\r\n",
        "  for row in dataset:\r\n",
        "    # print(row[0].lower().split(\" \") ) # row, 1st item, the sentence\r\n",
        "    # print(row[1].lower().split(\" \") ) # row, 2nd item, the 'answer'\r\n",
        "    \r\n",
        "    word_list = row[0].lower().split(\" \")\r\n",
        "    for word in word_list:\r\n",
        "      # print(word)\r\n",
        "      dic1[word] = 0\r\n",
        "\r\n",
        "  return dic1"
      ],
      "execution_count": 19,
      "outputs": []
    },
    {
      "cell_type": "code",
      "metadata": {
        "id": "WxAt2kClZApD"
      },
      "source": [
        "# convert from 'dictionary' to 'vector'\r\n",
        "## input: [ ['I buy an apple phone', 'happy'], ['I eat the gig apple', 'happy'] ]\r\n",
        "## 2 sentences go in, 2 vectors come out\r\n",
        "def convert_sentences_to_vector(dic1, sentence_list):\r\n",
        "  vector_list = []\r\n",
        "\r\n",
        "  for idx, row in enumerate(sentence_list):\r\n",
        "    dic1 = clear_values_in_dic(dic1)\r\n",
        "\r\n",
        "    sentence = row[0].lower().split()\r\n",
        "    answer = row[1].lower()\r\n",
        "    # print(sentence)\r\n",
        "    # print(answer)\r\n",
        "\r\n",
        "    for word in sentence:\r\n",
        "      # print(word)\r\n",
        "      for key, value in dic1.items():\r\n",
        "        # print(key)\r\n",
        "        if (word == key):\r\n",
        "          dic1[key] = 1\r\n",
        "      \r\n",
        "    # print( list( dic1.values() ) )\r\n",
        "    vector_list.append( [list(dic1.values() ), answer ] )\r\n",
        "\r\n",
        "  return vector_list\r\n",
        "\r\n",
        "\r\n",
        "\r\n",
        "def predict_answer( test_row, train_dataset, k_nay ):\r\n",
        "  my_naybers = find_naybers(test_row, train_dataset, k_nay)\r\n",
        "  \r\n",
        "  my_naybers_answer = [ row[-1] for row in my_naybers ] # >> [' ', 'happy', 'happy'], >> row[-1] the last 'column' in a row\r\n",
        "  # print( my_naybers_answer )\r\n",
        "  the_prediction = max( set(my_naybers_answer), key=my_naybers_answer.count ) # # set() math 'set' you don't have the same stuff in a 'set'\r\n",
        "  # print( the_prediction )\r\n",
        "\r\n",
        "  return the_prediction\r\n",
        "\r\n",
        "\r\n",
        "\r\n",
        "def find_naybers(test_row, train_data, k_nay):\r\n",
        "  distance_list = []\r\n",
        "\r\n",
        "  for train_row in train_data:\r\n",
        "    # eu_distance = calculate_eu_distance(test_row, train_row)\r\n",
        "    man_distance = calculate_manhat_distance(test_row, train_row)\r\n",
        "    distance_list.append( (man_distance, train_row[1]) )\r\n",
        "\r\n",
        "  # print( distance_list )\r\n",
        "  distance_list.sort( key=lambda asdf: asdf[0] ) # asdf[1] is just the 'second item (eu distance)' in the 'distance_list'\r\n",
        "  # print( distance_list )\r\n",
        "\r\n",
        "  naybers = []\r\n",
        "  for i in range(k_nay):\r\n",
        "    naybers.append( distance_list[i] )\r\n",
        "\r\n",
        "  return naybers\r\n",
        "\r\n",
        "\r\n",
        "def calculate_manhat_distance(test_row, train_row):\r\n",
        "  distance = 0.0\r\n",
        "\r\n",
        "  # print(f\"test_row: {test_row}  train_row: {train_row}\")  \r\n",
        "  if ( len(test_row[0]) == len(train_row[0]) ):\r\n",
        "\r\n",
        "      for a, b in zip( test_row[0], train_row[0]  ):\r\n",
        "        # print('calculate_manhat_distance a: ', a)\r\n",
        "        # print('calculate_manhat_distance b: ', b)\r\n",
        "\r\n",
        "        distance = distance + abs(a-b)\r\n",
        "  else:\r\n",
        "    print('ERROR, vector length do not match')\r\n",
        "    \r\n",
        "  return distance\r\n",
        "\r\n",
        "\r\n",
        "# v1 = [[2,3],'yes']\r\n",
        "# v2 = [[5,7],'no']\r\n",
        "# dis1 = calculate_manhat_distance(v1, v2)\r\n",
        "\r\n",
        "\r\n",
        "def calculate_eu_distance(test_row, train_row):\r\n",
        "  distance = 0.0\r\n",
        "\r\n",
        "  # print(f\"test_row: {test_row}  train_row: {train_row}\")  \r\n",
        "\r\n",
        "  if ( len(test_row[0]) == len(train_row[0]) ):\r\n",
        "\r\n",
        "    for a, b in zip( test_row[0], train_row[0] ):\r\n",
        "      # print('calculate_eu_distance a: ', a)\r\n",
        "      # print('calculate_eu_distance b: ', b)\r\n",
        "\r\n",
        "      distance = distance + (a - b)**2\r\n",
        "  else:\r\n",
        "    print('ERROR, vector length do not match')\r\n",
        "    # pass\r\n",
        "\r\n",
        "  return math.sqrt( distance )\r\n",
        "\r\n",
        "\r\n",
        "\r\n",
        "def accuracy_met(actual, predicted):\r\n",
        "  correct = 0\r\n",
        "\r\n",
        "  # print(f\"actual {actual}\")\r\n",
        "  # print(f\"predicted {predicted}\")\r\n",
        "\r\n",
        "  for idx in range( len(actual) ): # >> idx 0,1,2\r\n",
        "    if actual[idx] == predicted[idx]:\r\n",
        "      correct = correct + 1\r\n",
        "  \r\n",
        "  # print(f\"correct: {correct}  out of total: { len(actual) } \"  )\r\n",
        "  # print( correct / float( len(actual) ) * 100 )\r\n",
        "  return correct / float( len(actual) ) * 100\r\n",
        "    \r\n",
        "\r\n",
        "\r\n",
        "def k_eval(test_set, train_set, actual): \r\n",
        "  k_evaluation = []\r\n",
        "\r\n",
        "  for k in range(1, 22, 3):\r\n",
        "    preds = []\r\n",
        "\r\n",
        "    for row in test_set:\r\n",
        "      predictors_only = row[ : -1]\r\n",
        "      prediction = predict_answer(predictors_only, train_set, k)\r\n",
        "\r\n",
        "      preds.append( prediction ) \r\n",
        "    \r\n",
        "    curr_accuracy = accuracy_met(actual, preds)\r\n",
        "    k_evaluation.append( (k, curr_accuracy) )\r\n",
        "\r\n",
        "  return k_evaluation\r\n",
        "\r\n"
      ],
      "execution_count": 54,
      "outputs": []
    },
    {
      "cell_type": "code",
      "metadata": {
        "id": "5SQ6d8TwxwP7"
      },
      "source": [
        "##\r\n",
        "## program start here\r\n",
        "##\r\n",
        "\r\n",
        "# file_name = '/content/drive/MyDrive/homework1 spring 2021/data/train_set_simple_4.csv'\r\n",
        "file_name = '/content/drive/MyDrive/homework1 spring 2021/data/train_set_simple.csv'\r\n",
        "# file_name = '/content/drive/MyDrive/homework1 spring 2021/data/train_set.csv'\r\n",
        "dataset1 = load_csv(file_name)\r\n",
        "# print(dataset1)\r\n",
        "\r\n",
        "dic1 = convert_to_dic(dataset1)\r\n",
        "train_set = convert_sentences_to_vector(dic1, dataset1)"
      ],
      "execution_count": 55,
      "outputs": []
    },
    {
      "cell_type": "code",
      "metadata": {
        "colab": {
          "base_uri": "https://localhost:8080/"
        },
        "id": "umGREvNV23I6",
        "outputId": "8af6b9fb-d980-465f-bdf6-2a242f8fc784"
      },
      "source": [
        "train_set = train_set\r\n",
        "# train_set = train_set[ : 200]\r\n",
        "# print(f\"train_set: {train_set} \\n\")\r\n",
        "print(f\"len train_set: { len(train_set) } \")\r\n",
        "\r\n",
        "actual = np.array(dataset1)[ : , -1]\r\n",
        "# actual = np.array(dataset1)[ : 200, -1] # >> use np.array() to get the 'emotions' from each sentence\r\n",
        "print(f\"len actual: { len(actual) } \\n\")"
      ],
      "execution_count": 56,
      "outputs": [
        {
          "output_type": "stream",
          "text": [
            "len train_set: 9 \n",
            "len actual: 9 \n",
            "\n"
          ],
          "name": "stdout"
        }
      ]
    },
    {
      "cell_type": "code",
      "metadata": {
        "colab": {
          "base_uri": "https://localhost:8080/",
          "height": 374
        },
        "id": "-eXQ4ToL6JKd",
        "outputId": "d9574704-b2fb-491d-971b-e26f02a9c97a"
      },
      "source": [
        "# how do i save calculated distances?\r\n",
        "preds3 = []\r\n",
        "\r\n",
        "for row in train_set:\r\n",
        "  test_row = row\r\n",
        "  the_prediction = predict_answer(test_row, train_set, 3)\r\n",
        "  preds3.append( the_prediction )\r\n",
        "\r\n",
        "preds3\r\n",
        "  "
      ],
      "execution_count": 53,
      "outputs": [
        {
          "output_type": "error",
          "ename": "KeyboardInterrupt",
          "evalue": "ignored",
          "traceback": [
            "\u001b[0;31m---------------------------------------------------------------------------\u001b[0m",
            "\u001b[0;31mKeyboardInterrupt\u001b[0m                         Traceback (most recent call last)",
            "\u001b[0;32m<ipython-input-53-965a1a95aa68>\u001b[0m in \u001b[0;36m<module>\u001b[0;34m()\u001b[0m\n\u001b[1;32m      4\u001b[0m \u001b[0;32mfor\u001b[0m \u001b[0mrow\u001b[0m \u001b[0;32min\u001b[0m \u001b[0mtrain_set\u001b[0m\u001b[0;34m:\u001b[0m\u001b[0;34m\u001b[0m\u001b[0;34m\u001b[0m\u001b[0m\n\u001b[1;32m      5\u001b[0m   \u001b[0mtest_row\u001b[0m \u001b[0;34m=\u001b[0m \u001b[0mrow\u001b[0m\u001b[0;34m\u001b[0m\u001b[0;34m\u001b[0m\u001b[0m\n\u001b[0;32m----> 6\u001b[0;31m   \u001b[0mthe_prediction\u001b[0m \u001b[0;34m=\u001b[0m \u001b[0mpredict_answer\u001b[0m\u001b[0;34m(\u001b[0m\u001b[0mtest_row\u001b[0m\u001b[0;34m,\u001b[0m \u001b[0mtrain_set\u001b[0m\u001b[0;34m,\u001b[0m \u001b[0;36m3\u001b[0m\u001b[0;34m)\u001b[0m\u001b[0;34m\u001b[0m\u001b[0;34m\u001b[0m\u001b[0m\n\u001b[0m\u001b[1;32m      7\u001b[0m   \u001b[0mpreds3\u001b[0m\u001b[0;34m.\u001b[0m\u001b[0mappend\u001b[0m\u001b[0;34m(\u001b[0m \u001b[0mthe_prediction\u001b[0m \u001b[0;34m)\u001b[0m\u001b[0;34m\u001b[0m\u001b[0;34m\u001b[0m\u001b[0m\n\u001b[1;32m      8\u001b[0m \u001b[0;34m\u001b[0m\u001b[0m\n",
            "\u001b[0;32m<ipython-input-21-8aa013f819e5>\u001b[0m in \u001b[0;36mpredict_answer\u001b[0;34m(test_row, train_dataset, k_nay)\u001b[0m\n\u001b[1;32m     28\u001b[0m \u001b[0;34m\u001b[0m\u001b[0m\n\u001b[1;32m     29\u001b[0m \u001b[0;32mdef\u001b[0m \u001b[0mpredict_answer\u001b[0m\u001b[0;34m(\u001b[0m \u001b[0mtest_row\u001b[0m\u001b[0;34m,\u001b[0m \u001b[0mtrain_dataset\u001b[0m\u001b[0;34m,\u001b[0m \u001b[0mk_nay\u001b[0m \u001b[0;34m)\u001b[0m\u001b[0;34m:\u001b[0m\u001b[0;34m\u001b[0m\u001b[0;34m\u001b[0m\u001b[0m\n\u001b[0;32m---> 30\u001b[0;31m   \u001b[0mmy_naybers\u001b[0m \u001b[0;34m=\u001b[0m \u001b[0mfind_naybers\u001b[0m\u001b[0;34m(\u001b[0m\u001b[0mtest_row\u001b[0m\u001b[0;34m,\u001b[0m \u001b[0mtrain_dataset\u001b[0m\u001b[0;34m,\u001b[0m \u001b[0mk_nay\u001b[0m\u001b[0;34m)\u001b[0m\u001b[0;34m\u001b[0m\u001b[0;34m\u001b[0m\u001b[0m\n\u001b[0m\u001b[1;32m     31\u001b[0m \u001b[0;34m\u001b[0m\u001b[0m\n\u001b[1;32m     32\u001b[0m   \u001b[0mmy_naybers_answer\u001b[0m \u001b[0;34m=\u001b[0m \u001b[0;34m[\u001b[0m \u001b[0mrow\u001b[0m\u001b[0;34m[\u001b[0m\u001b[0;34m-\u001b[0m\u001b[0;36m1\u001b[0m\u001b[0;34m]\u001b[0m \u001b[0;32mfor\u001b[0m \u001b[0mrow\u001b[0m \u001b[0;32min\u001b[0m \u001b[0mmy_naybers\u001b[0m \u001b[0;34m]\u001b[0m \u001b[0;31m# >> [' ', 'happy', 'happy'], >> row[-1] the last 'column' in a row\u001b[0m\u001b[0;34m\u001b[0m\u001b[0;34m\u001b[0m\u001b[0m\n",
            "\u001b[0;32m<ipython-input-21-8aa013f819e5>\u001b[0m in \u001b[0;36mfind_naybers\u001b[0;34m(test_row, train_data, k_nay)\u001b[0m\n\u001b[1;32m     44\u001b[0m   \u001b[0;32mfor\u001b[0m \u001b[0mtrain_row\u001b[0m \u001b[0;32min\u001b[0m \u001b[0mtrain_data\u001b[0m\u001b[0;34m:\u001b[0m\u001b[0;34m\u001b[0m\u001b[0;34m\u001b[0m\u001b[0m\n\u001b[1;32m     45\u001b[0m     \u001b[0;31m# eu_distance = calculate_eu_distance(test_row, train_row)\u001b[0m\u001b[0;34m\u001b[0m\u001b[0;34m\u001b[0m\u001b[0;34m\u001b[0m\u001b[0m\n\u001b[0;32m---> 46\u001b[0;31m     \u001b[0mman_distance\u001b[0m \u001b[0;34m=\u001b[0m \u001b[0mcalculate_manhat_distance\u001b[0m\u001b[0;34m(\u001b[0m\u001b[0mtest_row\u001b[0m\u001b[0;34m,\u001b[0m \u001b[0mtrain_row\u001b[0m\u001b[0;34m)\u001b[0m\u001b[0;34m\u001b[0m\u001b[0;34m\u001b[0m\u001b[0m\n\u001b[0m\u001b[1;32m     47\u001b[0m     \u001b[0mdistance_list\u001b[0m\u001b[0;34m.\u001b[0m\u001b[0mappend\u001b[0m\u001b[0;34m(\u001b[0m \u001b[0;34m(\u001b[0m\u001b[0mman_distance\u001b[0m\u001b[0;34m,\u001b[0m \u001b[0mtrain_row\u001b[0m\u001b[0;34m[\u001b[0m\u001b[0;36m1\u001b[0m\u001b[0;34m]\u001b[0m\u001b[0;34m)\u001b[0m \u001b[0;34m)\u001b[0m\u001b[0;34m\u001b[0m\u001b[0;34m\u001b[0m\u001b[0m\n\u001b[1;32m     48\u001b[0m \u001b[0;34m\u001b[0m\u001b[0m\n",
            "\u001b[0;32m<ipython-input-21-8aa013f819e5>\u001b[0m in \u001b[0;36mcalculate_manhat_distance\u001b[0;34m(test_row, train_row)\u001b[0m\n\u001b[1;32m     88\u001b[0m         \u001b[0;31m# print('calculate_manhat_distance b: ', b)\u001b[0m\u001b[0;34m\u001b[0m\u001b[0;34m\u001b[0m\u001b[0;34m\u001b[0m\u001b[0m\n\u001b[1;32m     89\u001b[0m \u001b[0;34m\u001b[0m\u001b[0m\n\u001b[0;32m---> 90\u001b[0;31m         \u001b[0mdistance\u001b[0m \u001b[0;34m=\u001b[0m \u001b[0mdistance\u001b[0m \u001b[0;34m+\u001b[0m \u001b[0mabs\u001b[0m\u001b[0;34m(\u001b[0m\u001b[0ma\u001b[0m\u001b[0;34m-\u001b[0m\u001b[0mb\u001b[0m\u001b[0;34m)\u001b[0m\u001b[0;34m\u001b[0m\u001b[0;34m\u001b[0m\u001b[0m\n\u001b[0m\u001b[1;32m     91\u001b[0m   \u001b[0;32melse\u001b[0m\u001b[0;34m:\u001b[0m\u001b[0;34m\u001b[0m\u001b[0;34m\u001b[0m\u001b[0m\n\u001b[1;32m     92\u001b[0m     \u001b[0mprint\u001b[0m\u001b[0;34m(\u001b[0m\u001b[0;34m'ERROR, vector length do not match'\u001b[0m\u001b[0;34m)\u001b[0m\u001b[0;34m\u001b[0m\u001b[0;34m\u001b[0m\u001b[0m\n",
            "\u001b[0;31mKeyboardInterrupt\u001b[0m: "
          ]
        }
      ]
    },
    {
      "cell_type": "code",
      "metadata": {
        "colab": {
          "base_uri": "https://localhost:8080/",
          "height": 408
        },
        "id": "wGVZ3Sn2x8JR",
        "outputId": "ca859633-c45d-4111-ad9b-5f54c1eee576"
      },
      "source": [
        "k_start = 3\r\n",
        "k_stop = math.floor ( math.sqrt( len(actual) ) )\r\n",
        "print(f\"k_start: { k_start } to k_stop: {k_stop} \\n\")\r\n",
        "k_eval1 = []\r\n",
        "\r\n",
        "for k in range(k_start, k_stop, 2): # 1 to 9, increment by 2 >> 1,3,5,7,9\r\n",
        "  preds2 = []\r\n",
        "\r\n",
        "  for row in train_set:\r\n",
        "    the_prediction = predict_answer(row, train_set, k) # >> 'row' is the current row you use as a 'test_row'\r\n",
        "    preds2.append( the_prediction )\r\n",
        "  \r\n",
        "  current_accuracy = accuracy_met(actual, preds2)\r\n",
        "  k_eval1.append( (k, current_accuracy) )\r\n",
        "\r\n",
        "\r\n",
        "print(f\"number of K, accuracy: {k_eval1}\")"
      ],
      "execution_count": 44,
      "outputs": [
        {
          "output_type": "stream",
          "text": [
            "k_start: 3 to k_stop: 24 \n",
            "\n"
          ],
          "name": "stdout"
        },
        {
          "output_type": "error",
          "ename": "KeyboardInterrupt",
          "evalue": "ignored",
          "traceback": [
            "\u001b[0;31m---------------------------------------------------------------------------\u001b[0m",
            "\u001b[0;31mKeyboardInterrupt\u001b[0m                         Traceback (most recent call last)",
            "\u001b[0;32m<ipython-input-44-f56f5fbb7510>\u001b[0m in \u001b[0;36m<module>\u001b[0;34m()\u001b[0m\n\u001b[1;32m      8\u001b[0m \u001b[0;34m\u001b[0m\u001b[0m\n\u001b[1;32m      9\u001b[0m   \u001b[0;32mfor\u001b[0m \u001b[0mrow\u001b[0m \u001b[0;32min\u001b[0m \u001b[0mtrain_set\u001b[0m\u001b[0;34m:\u001b[0m\u001b[0;34m\u001b[0m\u001b[0;34m\u001b[0m\u001b[0m\n\u001b[0;32m---> 10\u001b[0;31m     \u001b[0mthe_prediction\u001b[0m \u001b[0;34m=\u001b[0m \u001b[0mpredict_answer\u001b[0m\u001b[0;34m(\u001b[0m\u001b[0mrow\u001b[0m\u001b[0;34m,\u001b[0m \u001b[0mtrain_set\u001b[0m\u001b[0;34m,\u001b[0m \u001b[0mk\u001b[0m\u001b[0;34m)\u001b[0m \u001b[0;31m# >> 'row' is the current row you use as a 'test_row'\u001b[0m\u001b[0;34m\u001b[0m\u001b[0;34m\u001b[0m\u001b[0m\n\u001b[0m\u001b[1;32m     11\u001b[0m     \u001b[0mpreds2\u001b[0m\u001b[0;34m.\u001b[0m\u001b[0mappend\u001b[0m\u001b[0;34m(\u001b[0m \u001b[0mthe_prediction\u001b[0m \u001b[0;34m)\u001b[0m\u001b[0;34m\u001b[0m\u001b[0;34m\u001b[0m\u001b[0m\n\u001b[1;32m     12\u001b[0m \u001b[0;34m\u001b[0m\u001b[0m\n",
            "\u001b[0;32m<ipython-input-21-8aa013f819e5>\u001b[0m in \u001b[0;36mpredict_answer\u001b[0;34m(test_row, train_dataset, k_nay)\u001b[0m\n\u001b[1;32m     28\u001b[0m \u001b[0;34m\u001b[0m\u001b[0m\n\u001b[1;32m     29\u001b[0m \u001b[0;32mdef\u001b[0m \u001b[0mpredict_answer\u001b[0m\u001b[0;34m(\u001b[0m \u001b[0mtest_row\u001b[0m\u001b[0;34m,\u001b[0m \u001b[0mtrain_dataset\u001b[0m\u001b[0;34m,\u001b[0m \u001b[0mk_nay\u001b[0m \u001b[0;34m)\u001b[0m\u001b[0;34m:\u001b[0m\u001b[0;34m\u001b[0m\u001b[0;34m\u001b[0m\u001b[0m\n\u001b[0;32m---> 30\u001b[0;31m   \u001b[0mmy_naybers\u001b[0m \u001b[0;34m=\u001b[0m \u001b[0mfind_naybers\u001b[0m\u001b[0;34m(\u001b[0m\u001b[0mtest_row\u001b[0m\u001b[0;34m,\u001b[0m \u001b[0mtrain_dataset\u001b[0m\u001b[0;34m,\u001b[0m \u001b[0mk_nay\u001b[0m\u001b[0;34m)\u001b[0m\u001b[0;34m\u001b[0m\u001b[0;34m\u001b[0m\u001b[0m\n\u001b[0m\u001b[1;32m     31\u001b[0m \u001b[0;34m\u001b[0m\u001b[0m\n\u001b[1;32m     32\u001b[0m   \u001b[0mmy_naybers_answer\u001b[0m \u001b[0;34m=\u001b[0m \u001b[0;34m[\u001b[0m \u001b[0mrow\u001b[0m\u001b[0;34m[\u001b[0m\u001b[0;34m-\u001b[0m\u001b[0;36m1\u001b[0m\u001b[0;34m]\u001b[0m \u001b[0;32mfor\u001b[0m \u001b[0mrow\u001b[0m \u001b[0;32min\u001b[0m \u001b[0mmy_naybers\u001b[0m \u001b[0;34m]\u001b[0m \u001b[0;31m# >> [' ', 'happy', 'happy'], >> row[-1] the last 'column' in a row\u001b[0m\u001b[0;34m\u001b[0m\u001b[0;34m\u001b[0m\u001b[0m\n",
            "\u001b[0;32m<ipython-input-21-8aa013f819e5>\u001b[0m in \u001b[0;36mfind_naybers\u001b[0;34m(test_row, train_data, k_nay)\u001b[0m\n\u001b[1;32m     44\u001b[0m   \u001b[0;32mfor\u001b[0m \u001b[0mtrain_row\u001b[0m \u001b[0;32min\u001b[0m \u001b[0mtrain_data\u001b[0m\u001b[0;34m:\u001b[0m\u001b[0;34m\u001b[0m\u001b[0;34m\u001b[0m\u001b[0m\n\u001b[1;32m     45\u001b[0m     \u001b[0;31m# eu_distance = calculate_eu_distance(test_row, train_row)\u001b[0m\u001b[0;34m\u001b[0m\u001b[0;34m\u001b[0m\u001b[0;34m\u001b[0m\u001b[0m\n\u001b[0;32m---> 46\u001b[0;31m     \u001b[0mman_distance\u001b[0m \u001b[0;34m=\u001b[0m \u001b[0mcalculate_manhat_distance\u001b[0m\u001b[0;34m(\u001b[0m\u001b[0mtest_row\u001b[0m\u001b[0;34m,\u001b[0m \u001b[0mtrain_row\u001b[0m\u001b[0;34m)\u001b[0m\u001b[0;34m\u001b[0m\u001b[0;34m\u001b[0m\u001b[0m\n\u001b[0m\u001b[1;32m     47\u001b[0m     \u001b[0mdistance_list\u001b[0m\u001b[0;34m.\u001b[0m\u001b[0mappend\u001b[0m\u001b[0;34m(\u001b[0m \u001b[0;34m(\u001b[0m\u001b[0mman_distance\u001b[0m\u001b[0;34m,\u001b[0m \u001b[0mtrain_row\u001b[0m\u001b[0;34m[\u001b[0m\u001b[0;36m1\u001b[0m\u001b[0;34m]\u001b[0m\u001b[0;34m)\u001b[0m \u001b[0;34m)\u001b[0m\u001b[0;34m\u001b[0m\u001b[0;34m\u001b[0m\u001b[0m\n\u001b[1;32m     48\u001b[0m \u001b[0;34m\u001b[0m\u001b[0m\n",
            "\u001b[0;32m<ipython-input-21-8aa013f819e5>\u001b[0m in \u001b[0;36mcalculate_manhat_distance\u001b[0;34m(test_row, train_row)\u001b[0m\n\u001b[1;32m     84\u001b[0m   \u001b[0;32mif\u001b[0m \u001b[0;34m(\u001b[0m \u001b[0mlen\u001b[0m\u001b[0;34m(\u001b[0m\u001b[0mtest_row\u001b[0m\u001b[0;34m[\u001b[0m\u001b[0;36m0\u001b[0m\u001b[0;34m]\u001b[0m\u001b[0;34m)\u001b[0m \u001b[0;34m==\u001b[0m \u001b[0mlen\u001b[0m\u001b[0;34m(\u001b[0m\u001b[0mtrain_row\u001b[0m\u001b[0;34m[\u001b[0m\u001b[0;36m0\u001b[0m\u001b[0;34m]\u001b[0m\u001b[0;34m)\u001b[0m \u001b[0;34m)\u001b[0m\u001b[0;34m:\u001b[0m\u001b[0;34m\u001b[0m\u001b[0;34m\u001b[0m\u001b[0m\n\u001b[1;32m     85\u001b[0m \u001b[0;34m\u001b[0m\u001b[0m\n\u001b[0;32m---> 86\u001b[0;31m       \u001b[0;32mfor\u001b[0m \u001b[0ma\u001b[0m\u001b[0;34m,\u001b[0m \u001b[0mb\u001b[0m \u001b[0;32min\u001b[0m \u001b[0mzip\u001b[0m\u001b[0;34m(\u001b[0m \u001b[0mtest_row\u001b[0m\u001b[0;34m[\u001b[0m\u001b[0;36m0\u001b[0m\u001b[0;34m]\u001b[0m\u001b[0;34m,\u001b[0m \u001b[0mtrain_row\u001b[0m\u001b[0;34m[\u001b[0m\u001b[0;36m0\u001b[0m\u001b[0;34m]\u001b[0m  \u001b[0;34m)\u001b[0m\u001b[0;34m:\u001b[0m\u001b[0;34m\u001b[0m\u001b[0;34m\u001b[0m\u001b[0m\n\u001b[0m\u001b[1;32m     87\u001b[0m         \u001b[0;31m# print('calculate_manhat_distance a: ', a)\u001b[0m\u001b[0;34m\u001b[0m\u001b[0;34m\u001b[0m\u001b[0;34m\u001b[0m\u001b[0m\n\u001b[1;32m     88\u001b[0m         \u001b[0;31m# print('calculate_manhat_distance b: ', b)\u001b[0m\u001b[0;34m\u001b[0m\u001b[0;34m\u001b[0m\u001b[0;34m\u001b[0m\u001b[0m\n",
            "\u001b[0;31mKeyboardInterrupt\u001b[0m: "
          ]
        }
      ]
    },
    {
      "cell_type": "code",
      "metadata": {
        "id": "IMzcPIMaLacR"
      },
      "source": [
        "###\r\n",
        "###"
      ],
      "execution_count": null,
      "outputs": []
    },
    {
      "cell_type": "code",
      "metadata": {
        "id": "sOGT83F1LZKq"
      },
      "source": [
        "# test_row = [['My friend has an apple', '']]\r\n",
        "# test_row_vector = convert_sentences_to_vector(dic1, test_row)\r\n",
        "# print(test_row_vector)\r\n",
        "\r\n",
        "# test_set = [ [[0, 0, 1, 1, 0, 0, 0, 0, 0, 0, 0, 0, 1, 1, 1], ''] ]\r\n",
        "# test_row = [[0, 0, 1, 1, 0, 0, 0, 0, 0, 0, 0, 0, 1, 1, 1], ''] \r\n",
        "\r\n",
        "# train_row1 = [[1, 1, 1, 1, 1, 0, 0, 0, 0, 0, 0, 0, 0, 0, 0], 'happy']\r\n",
        "# train_row2 = [[1, 0, 0, 1, 0, 1, 1, 1, 0, 0, 0, 0, 0, 0, 0], 'happy']\r\n",
        "# train_row3 = [[0, 0, 0, 1, 0, 0, 1, 0, 1, 1, 1, 1, 0, 0, 0], 'sad']\r\n",
        "\r\n",
        "# train_set = [ [[1, 1, 1, 1, 1, 0, 0, 0, 0, 0, 0, 0, 0, 0, 0], 'happy'], \r\n",
        "#               [[1, 0, 0, 1, 0, 1, 1, 1, 0, 0, 0, 0, 0, 0, 0], 'happy'],\r\n",
        "#               [[0, 0, 0, 1, 0, 0, 1, 0, 1, 1, 1, 1, 0, 0, 0], 'sad'] ]\r\n",
        "# calculate_eu_distance(test_row, train_row3)\r\n",
        "\r\n",
        "\r\n",
        "\r\n",
        "\r\n",
        "\r\n",
        "# predict1 = predict_answer(test_row, train_dataset, 3)\r\n",
        "# actual = ['happy', 'happy', 'sad']\r\n",
        "# predicted = ['sad', 'happy', 'sad']"
      ],
      "execution_count": null,
      "outputs": []
    }
  ]
}